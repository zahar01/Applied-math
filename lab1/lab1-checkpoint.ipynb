{
 "cells": [
  {
   "cell_type": "code",
   "execution_count": 2,
   "metadata": {},
   "outputs": [],
   "source": [
    "import math\n",
    "# from tkinter import *"
   ]
  },
  {
   "cell_type": "code",
   "execution_count": 3,
   "metadata": {},
   "outputs": [],
   "source": [
    "def y(x):\n",
    "    return math.log(x**2) + 1 - math.sin(x)"
   ]
  },
  {
   "cell_type": "code",
   "execution_count": 4,
   "metadata": {},
   "outputs": [
    {
     "name": "stdout",
     "output_type": "stream",
     "text": [
      "Input a:6\n",
      "Input b:9\n",
      "Input epsilon:0.05\n"
     ]
    }
   ],
   "source": [
    "a_main = float(input(\"Input a:\"))\n",
    "b_main = float(input(\"Input b:\"))\n",
    "epsilon = float(input(\"Input epsilon:\"))\n",
    "delta = epsilon/2 - epsilon*0.1\n",
    "\n"
   ]
  },
  {
   "cell_type": "markdown",
   "metadata": {},
   "source": [
    "# Метод дихотомии"
   ]
  },
  {
   "cell_type": "code",
   "execution_count": 10,
   "metadata": {
    "scrolled": true
   },
   "outputs": [
    {
     "name": "stdout",
     "output_type": "stream",
     "text": [
      "Middle value between last pair [a, b]: y = 4.088448826390146, x = 7.569375000000001\n"
     ]
    }
   ],
   "source": [
    "a = a_main\n",
    "b = b_main\n",
    "\n",
    "for i in range(round(math.log((b-a)/epsilon)/math.log(2))):\n",
    "    middle = (a + b)/2\n",
    "    x1 = middle - delta\n",
    "    x2 = middle + delta\n",
    "    f_x1 = y(x1)\n",
    "    f_x2 = y(x2)\n",
    "    \n",
    "    if f_x1 < f_x2:\n",
    "        b = x2\n",
    "    elif f_x1 > f_x2:\n",
    "        a = x1\n",
    "    elif f_x1 == f_x2:\n",
    "        a = x1\n",
    "        b = x2\n",
    "        \n",
    "print(f\"Middle value between last pair [a, b]: y = {y((a + b)/2)}, x = {(a + b)/2}\")"
   ]
  },
  {
   "cell_type": "code",
   "execution_count": null,
   "metadata": {},
   "outputs": [],
   "source": [
    "# root = Tk()\n",
    "\n",
    "# canv = Canvas(root, width = 1000, height = 1000, bg = \"white\")\n",
    "# canv.create_line(500,1000,500,0,width=2,arrow=LAST) \n",
    "# canv.create_line(0,500,1000,500,width=2,arrow=LAST) \n",
    "\n",
    "# First_x = -500;\n",
    "\n",
    "# for i in range(16000):\n",
    "#     x = First_x + (1 / 16) * i\n",
    "#     new_f = f.replace('x', str(x))\n",
    "#     y = -eval(new_f) + 500\n",
    "#     x += 500\n",
    "#     canv.create_oval(x, y, x + 1, y + 1, fill = 'black')\n",
    "     \n",
    "# canv.pack()\t\n",
    "# root.mainloop()"
   ]
  },
  {
   "cell_type": "markdown",
   "metadata": {},
   "source": [
    "# Метод золотого сечения"
   ]
  },
  {
   "cell_type": "code",
   "execution_count": 12,
   "metadata": {
    "scrolled": true
   },
   "outputs": [
    {
     "name": "stdout",
     "output_type": "stream",
     "text": [
      "Middle value between last pair [a, b]: y = 4.0883079692891275, x = 7.591129633112224\n"
     ]
    }
   ],
   "source": [
    "a = a_main\n",
    "b = b_main\n",
    "\n",
    "x1 = a + ((3-5**(1/2))/2)*(b-a)\n",
    "x2 = b - ((3-5**(1/2))/2)*(b-a)\n",
    "f_x1 = y(x1)\n",
    "f_x2 = y(x2)\n",
    "\n",
    "\n",
    "while (((b-a)/2) > epsilon):\n",
    "    if f_x1 < f_x2 or f_x1 == f_x2:\n",
    "        b = x2\n",
    "        x2 = x1\n",
    "        x1 = a + ((3-5**(1/2))/2)*(b-a)\n",
    "        f_x2 = f_x1\n",
    "        f_x1 = y(x1)\n",
    "    elif f_x1 > f_x2 or f_x1 == f_x2:\n",
    "        a = x1\n",
    "        x1 = x2\n",
    "        x2 = b - ((3-5**(1/2))/2)*(b-a)\n",
    "        f_x1 = f_x2\n",
    "        f_x2 = y(x2)\n",
    "        \n",
    "        \n",
    "print(f\"Middle value between last pair [a, b]: y = {y((a + b)/2)}, x = {(a + b)/2}\")"
   ]
  },
  {
   "cell_type": "markdown",
   "metadata": {},
   "source": [
    "# Метод Фиббоначи"
   ]
  },
  {
   "cell_type": "code",
   "execution_count": null,
   "metadata": {},
   "outputs": [],
   "source": [
    " "
   ]
  },
  {
   "cell_type": "markdown",
   "metadata": {},
   "source": [
    "# Метод парабол"
   ]
  },
  {
   "cell_type": "code",
   "execution_count": null,
   "metadata": {},
   "outputs": [],
   "source": []
  }
 ],
 "metadata": {
  "kernelspec": {
   "display_name": "Python 3",
   "language": "python",
   "name": "python3"
  },
  "language_info": {
   "codemirror_mode": {
    "name": "ipython",
    "version": 3
   },
   "file_extension": ".py",
   "mimetype": "text/x-python",
   "name": "python",
   "nbconvert_exporter": "python",
   "pygments_lexer": "ipython3",
   "version": "3.7.3"
  }
 },
 "nbformat": 4,
 "nbformat_minor": 2
}
